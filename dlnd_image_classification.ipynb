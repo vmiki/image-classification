{
 "cells": [
  {
   "cell_type": "markdown",
   "metadata": {},
   "source": [
    "# Image Classification\n",
    "In this project, you'll classify images from the [CIFAR-10 dataset](https://www.cs.toronto.edu/~kriz/cifar.html).  The dataset consists of airplanes, dogs, cats, and other objects. You'll preprocess the images, then train a convolutional neural network on all the samples. The images need to be normalized and the labels need to be one-hot encoded.  You'll get to apply what you learned and build a convolutional, max pooling, dropout, and fully connected layers.  At the end, you'll get to see your neural network's predictions on the sample images.\n",
    "## Get the Data\n",
    "Run the following cell to download the [CIFAR-10 dataset for python](https://www.cs.toronto.edu/~kriz/cifar-10-python.tar.gz)."
   ]
  },
  {
   "cell_type": "code",
   "execution_count": 2,
   "metadata": {},
   "outputs": [
    {
     "name": "stdout",
     "output_type": "stream",
     "text": [
      "All files found!\n"
     ]
    }
   ],
   "source": [
    "\"\"\"\n",
    "DON'T MODIFY ANYTHING IN THIS CELL THAT IS BELOW THIS LINE\n",
    "\"\"\"\n",
    "from urllib.request import urlretrieve\n",
    "from os.path import isfile, isdir\n",
    "from tqdm import tqdm\n",
    "import problem_unittests as tests\n",
    "import tarfile\n",
    "\n",
    "cifar10_dataset_folder_path = 'cifar-10-batches-py'\n",
    "\n",
    "# Use Floyd's cifar-10 dataset if present\n",
    "floyd_cifar10_location = '/input/cifar-10/python.tar.gz'\n",
    "if isfile(floyd_cifar10_location):\n",
    "    tar_gz_path = floyd_cifar10_location\n",
    "else:\n",
    "    tar_gz_path = 'cifar-10-python.tar.gz'\n",
    "\n",
    "class DLProgress(tqdm):\n",
    "    last_block = 0\n",
    "\n",
    "    def hook(self, block_num=1, block_size=1, total_size=None):\n",
    "        self.total = total_size\n",
    "        self.update((block_num - self.last_block) * block_size)\n",
    "        self.last_block = block_num\n",
    "\n",
    "if not isfile(tar_gz_path):\n",
    "    with DLProgress(unit='B', unit_scale=True, miniters=1, desc='CIFAR-10 Dataset') as pbar:\n",
    "        urlretrieve(\n",
    "            'https://www.cs.toronto.edu/~kriz/cifar-10-python.tar.gz',\n",
    "            tar_gz_path,\n",
    "            pbar.hook)\n",
    "\n",
    "if not isdir(cifar10_dataset_folder_path):\n",
    "    with tarfile.open(tar_gz_path) as tar:\n",
    "        tar.extractall()\n",
    "        tar.close()\n",
    "\n",
    "\n",
    "tests.test_folder_path(cifar10_dataset_folder_path)"
   ]
  },
  {
   "cell_type": "markdown",
   "metadata": {},
   "source": [
    "## Explore the Data\n",
    "The dataset is broken into batches to prevent your machine from running out of memory.  The CIFAR-10 dataset consists of 5 batches, named `data_batch_1`, `data_batch_2`, etc.. Each batch contains the labels and images that are one of the following:\n",
    "* airplane\n",
    "* automobile\n",
    "* bird\n",
    "* cat\n",
    "* deer\n",
    "* dog\n",
    "* frog\n",
    "* horse\n",
    "* ship\n",
    "* truck\n",
    "\n",
    "Understanding a dataset is part of making predictions on the data.  Play around with the code cell below by changing the `batch_id` and `sample_id`. The `batch_id` is the id for a batch (1-5). The `sample_id` is the id for a image and label pair in the batch.\n",
    "\n",
    "Ask yourself \"What are all possible labels?\", \"What is the range of values for the image data?\", \"Are the labels in order or random?\".  Answers to questions like these will help you preprocess the data and end up with better predictions."
   ]
  },
  {
   "cell_type": "code",
   "execution_count": 7,
   "metadata": {},
   "outputs": [
    {
     "name": "stdout",
     "output_type": "stream",
     "text": [
      "\n",
      "Stats of batch 3:\n",
      "Samples: 10000\n",
      "Label Counts: {0: 994, 1: 1042, 2: 965, 3: 997, 4: 990, 5: 1029, 6: 978, 7: 1015, 8: 961, 9: 1029}\n",
      "First 20 Labels: [8, 5, 0, 6, 9, 2, 8, 3, 6, 2, 7, 4, 6, 9, 0, 0, 7, 3, 7, 2]\n",
      "\n",
      "Example of Image 7:\n",
      "Image - Min Value: 12 Max Value: 254\n",
      "Image - Shape: (32, 32, 3)\n",
      "Label - Label Id: 3 Name: cat\n"
     ]
    },
    {
     "data": {
      "image/png": "[encoded data removed]",
      "text/plain": [
       "<matplotlib.figure.Figure at 0x1227648d0>"
      ]
     },
     "metadata": {
      "image/png": {
       "height": 250,
       "width": 253
      }
     },
     "output_type": "display_data"
    }
   ],
   "source": [
    "%matplotlib inline\n",
    "%config InlineBackend.figure_format = 'retina'\n",
    "\n",
    "import helper\n",
    "import numpy as np\n",
    "\n",
    "# Explore the dataset\n",
    "batch_id = 3\n",
    "sample_id = 7\n",
    "helper.display_stats(cifar10_dataset_folder_path, batch_id, sample_id)"
   ]
  },
  {
   "cell_type": "markdown",
   "metadata": {},
   "source": [
    "## Implement Preprocess Functions\n",
    "### Normalize\n",
    "In the cell below, implement the `normalize` function to take in image data, `x`, and return it as a normalized Numpy array. The values should be in the range of 0 to 1, inclusive.  The return object should be the same shape as `x`."
   ]
  },
  {
   "cell_type": "code",
   "execution_count": 8,
   "metadata": {},
   "outputs": [
    {
     "name": "stdout",
     "output_type": "stream",
     "text": [
      "Tests Passed\n"
     ]
    }
   ],
   "source": [
    "def normalize(x):\n",
    "    \"\"\"\n",
    "    Normalize a list of sample image data in the range of 0 to 1\n",
    "    : x: List of image data.  The image shape is (32, 32, 3)\n",
    "    : return: Numpy array of normalize data\n",
    "    \"\"\"\n",
    "    # TODO: Implement Function\n",
    "    maximum = np.max(x)\n",
    "    minimum = np.min(x)\n",
    "    return (x - minimum) / (maximum - minimum)\n",
    "\n",
    "\n",
    "\"\"\"\n",
    "DON'T MODIFY ANYTHING IN THIS CELL THAT IS BELOW THIS LINE\n",
    "\"\"\"\n",
    "tests.test_normalize(normalize)"
   ]
  },
  {
   "cell_type": "markdown",
   "metadata": {},
   "source": [
    "### One-hot encode\n",
    "Just like the previous code cell, you'll be implementing a function for preprocessing.  This time, you'll implement the `one_hot_encode` function. The input, `x`, are a list of labels.  Implement the function to return the list of labels as One-Hot encoded Numpy array.  The possible values for labels are 0 to 9. The one-hot encoding function should return the same encoding for each value between each call to `one_hot_encode`.  Make sure to save the map of encodings outside the function.\n",
    "\n",
    "Hint: Don't reinvent the wheel."
   ]
  },
  {
   "cell_type": "code",
   "execution_count": 9,
   "metadata": {},
   "outputs": [
    {
     "name": "stdout",
     "output_type": "stream",
     "text": [
      "Tests Passed\n"
     ]
    }
   ],
   "source": [
    "def one_hot_encode(x):\n",
    "    \"\"\"\n",
    "    One hot encode a list of sample labels. Return a one-hot encoded vector for each label.\n",
    "    : x: List of sample Labels\n",
    "    : return: Numpy array of one-hot encoded labels\n",
    "    \"\"\"\n",
    "    # TODO: Implement Function\n",
    "    nx = np.max(x) + 1\n",
    "    return np.eye(nx)[x]\n",
    "\n",
    "\n",
    "\"\"\"\n",
    "DON'T MODIFY ANYTHING IN THIS CELL THAT IS BELOW THIS LINE\n",
    "\"\"\"\n",
    "tests.test_one_hot_encode(one_hot_encode)"
   ]
  },
  {
   "cell_type": "markdown",
   "metadata": {},
   "source": [
    "### Randomize Data\n",
    "As you saw from exploring the data above, the order of the samples are randomized.  It doesn't hurt to randomize it again, but you don't need to for this dataset."
   ]
  },
  {
   "cell_type": "markdown",
   "metadata": {},
   "source": [
    "## Preprocess all the data and save it\n",
    "Running the code cell below will preprocess all the CIFAR-10 data and save it to file. The code below also uses 10% of the training data for validation."
   ]
  },
  {
   "cell_type": "code",
   "execution_count": 10,
   "metadata": {},
   "outputs": [],
   "source": [
    "\"\"\"\n",
    "DON'T MODIFY ANYTHING IN THIS CELL\n",
    "\"\"\"\n",
    "# Preprocess Training, Validation, and Testing Data\n",
    "helper.preprocess_and_save_data(cifar10_dataset_folder_path, normalize, one_hot_encode)"
   ]
  },
  {
   "cell_type": "markdown",
   "metadata": {},
   "source": [
    "# Check Point\n",
    "This is your first checkpoint.  If you ever decide to come back to this notebook or have to restart the notebook, you can start from here.  The preprocessed data has been saved to disk."
   ]
  },
  {
   "cell_type": "code",
   "execution_count": 11,
   "metadata": {
    "collapsed": true
   },
   "outputs": [],
   "source": [
    "\"\"\"\n",
    "DON'T MODIFY ANYTHING IN THIS CELL\n",
    "\"\"\"\n",
    "import pickle\n",
    "import problem_unittests as tests\n",
    "import helper\n",
    "\n",
    "# Load the Preprocessed Validation data\n",
    "valid_features, valid_labels = pickle.load(open('preprocess_validation.p', mode='rb'))"
   ]
  },
  {
   "cell_type": "markdown",
   "metadata": {},
   "source": [
    "## Build the network\n",
    "For the neural network, you'll build each layer into a function.  Most of the code you've seen has been outside of functions. To test your code more thoroughly, we require that you put each layer in a function.  This allows us to give you better feedback and test for simple mistakes using our unittests before you submit your project.\n",
    "\n",
    ">**Note:** If you're finding it hard to dedicate enough time for this course each week, we've provided a small shortcut to this part of the project. In the next couple of problems, you'll have the option to use classes from the [TensorFlow Layers](https://www.tensorflow.org/api_docs/python/tf/layers) or [TensorFlow Layers (contrib)](https://www.tensorflow.org/api_guides/python/contrib.layers) packages to build each layer, except the layers you build in the \"Convolutional and Max Pooling Layer\" section.  TF Layers is similar to Keras's and TFLearn's abstraction to layers, so it's easy to pickup.\n",
    "\n",
    ">However, if you would like to get the most out of this course, try to solve all the problems _without_ using anything from the TF Layers packages. You **can** still use classes from other packages that happen to have the same name as ones you find in TF Layers! For example, instead of using the TF Layers version of the `conv2d` class, [tf.layers.conv2d](https://www.tensorflow.org/api_docs/python/tf/layers/conv2d), you would want to use the TF Neural Network version of `conv2d`, [tf.nn.conv2d](https://www.tensorflow.org/api_docs/python/tf/nn/conv2d). \n",
    "\n",
    "Let's begin!\n",
    "\n",
    "### Input\n",
    "The neural network needs to read the image data, one-hot encoded labels, and dropout keep probability. Implement the following functions\n",
    "* Implement `neural_net_image_input`\n",
    " * Return a [TF Placeholder](https://www.tensorflow.org/api_docs/python/tf/placeholder)\n",
    " * Set the shape using `image_shape` with batch size set to `None`.\n",
    " * Name the TensorFlow placeholder \"x\" using the TensorFlow `name` parameter in the [TF Placeholder](https://www.tensorflow.org/api_docs/python/tf/placeholder).\n",
    "* Implement `neural_net_label_input`\n",
    " * Return a [TF Placeholder](https://www.tensorflow.org/api_docs/python/tf/placeholder)\n",
    " * Set the shape using `n_classes` with batch size set to `None`.\n",
    " * Name the TensorFlow placeholder \"y\" using the TensorFlow `name` parameter in the [TF Placeholder](https://www.tensorflow.org/api_docs/python/tf/placeholder).\n",
    "* Implement `neural_net_keep_prob_input`\n",
    " * Return a [TF Placeholder](https://www.tensorflow.org/api_docs/python/tf/placeholder) for dropout keep probability.\n",
    " * Name the TensorFlow placeholder \"keep_prob\" using the TensorFlow `name` parameter in the [TF Placeholder](https://www.tensorflow.org/api_docs/python/tf/placeholder).\n",
    "\n",
    "These names will be used at the end of the project to load your saved model.\n",
    "\n",
    "Note: `None` for shapes in TensorFlow allow for a dynamic size."
   ]
  },
  {
   "cell_type": "code",
   "execution_count": 12,
   "metadata": {},
   "outputs": [
    {
     "name": "stdout",
     "output_type": "stream",
     "text": [
      "Image Input Tests Passed.\n",
      "Label Input Tests Passed.\n",
      "Keep Prob Tests Passed.\n"
     ]
    }
   ],
   "source": [
    "import tensorflow as tf\n",
    "\n",
    "def neural_net_image_input(image_shape):\n",
    "    \"\"\"\n",
    "    Return a Tensor for a batch of image input\n",
    "    : image_shape: Shape of the images\n",
    "    : return: Tensor for image input.\n",
    "    \"\"\"\n",
    "    # TODO: Implement Function\n",
    "    return tf.placeholder(\n",
    "        tf.float32,\n",
    "        [None, image_shape[0], image_shape[1], 3],\n",
    "        name='x'\n",
    "    )\n",
    "\n",
    "\n",
    "def neural_net_label_input(n_classes):\n",
    "    \"\"\"\n",
    "    Return a Tensor for a batch of label input\n",
    "    : n_classes: Number of classes\n",
    "    : return: Tensor for label input.\n",
    "    \"\"\"\n",
    "    # TODO: Implement Function\n",
    "    return tf.placeholder(\n",
    "        tf.float32,\n",
    "        [None, n_classes],\n",
    "        name='y'\n",
    "    )\n",
    "\n",
    "\n",
    "def neural_net_keep_prob_input():\n",
    "    \"\"\"\n",
    "    Return a Tensor for keep probability\n",
    "    : return: Tensor for keep probability.\n",
    "    \"\"\"\n",
    "    # TODO: Implement Function\n",
    "    return tf.placeholder(tf.float32, name='keep_prob')\n",
    "\n",
    "\n",
    "\"\"\"\n",
    "DON'T MODIFY ANYTHING IN THIS CELL THAT IS BELOW THIS LINE\n",
    "\"\"\"\n",
    "tf.reset_default_graph()\n",
    "tests.test_nn_image_inputs(neural_net_image_input)\n",
    "tests.test_nn_label_inputs(neural_net_label_input)\n",
    "tests.test_nn_keep_prob_inputs(neural_net_keep_prob_input)"
   ]
  },
  {
   "cell_type": "markdown",
   "metadata": {},
   "source": [
    "### Convolution and Max Pooling Layer\n",
    "Convolution layers have a lot of success with images. For this code cell, you should implement the function `conv2d_maxpool` to apply convolution then max pooling:\n",
    "* Create the weight and bias using `conv_ksize`, `conv_num_outputs` and the shape of `x_tensor`.\n",
    "* Apply a convolution to `x_tensor` using weight and `conv_strides`.\n",
    " * We recommend you use same padding, but you're welcome to use any padding.\n",
    "* Add bias\n",
    "* Add a nonlinear activation to the convolution.\n",
    "* Apply Max Pooling using `pool_ksize` and `pool_strides`.\n",
    " * We recommend you use same padding, but you're welcome to use any padding.\n",
    "\n",
    "**Note:** You **can't** use [TensorFlow Layers](https://www.tensorflow.org/api_docs/python/tf/layers) or [TensorFlow Layers (contrib)](https://www.tensorflow.org/api_guides/python/contrib.layers) for **this** layer, but you can still use TensorFlow's [Neural Network](https://www.tensorflow.org/api_docs/python/tf/nn) package. You may still use the shortcut option for all the **other** layers."
   ]
  },
  {
   "cell_type": "code",
   "execution_count": 13,
   "metadata": {},
   "outputs": [
    {
     "name": "stdout",
     "output_type": "stream",
     "text": [
      "Tests Passed\n"
     ]
    }
   ],
   "source": [
    "def conv2d_maxpool(x_tensor, conv_num_outputs, conv_ksize, conv_strides, pool_ksize, pool_strides):\n",
    "    \"\"\"\n",
    "    Apply convolution then max pooling to x_tensor\n",
    "    :param x_tensor: TensorFlow Tensor\n",
    "    :param conv_num_outputs: Number of outputs for the convolutional layer\n",
    "    :param conv_ksize: kernal size 2-D Tuple for the convolutional layer\n",
    "    :param conv_strides: Stride 2-D Tuple for convolution\n",
    "    :param pool_ksize: kernal size 2-D Tuple for pool\n",
    "    :param pool_strides: Stride 2-D Tuple for pool\n",
    "    : return: A tensor that represents convolution and max pooling of x_tensor\n",
    "    \"\"\"\n",
    "    # TODO: Implement Function\n",
    "    input_depth = x_tensor.get_shape().as_list()[-1]\n",
    "    \n",
    "    W = tf.Variable(tf.random_normal(\n",
    "        [conv_ksize[0], conv_ksize[1], input_depth, conv_num_outputs],\n",
    "        stddev=0.1\n",
    "    )) \n",
    "    \n",
    "    b = tf.Variable(tf.zeros(conv_num_outputs))\n",
    "    \n",
    "    conv = tf.nn.conv2d(x_tensor, W, [1, conv_strides[0], conv_strides[1], 1], 'SAME') + b\n",
    "    conv = tf.nn.relu(conv)\n",
    "\n",
    "    return tf.nn.max_pool(\n",
    "        conv,\n",
    "        [1, pool_ksize[0], pool_ksize[1], 1],\n",
    "        [1, pool_strides[0], pool_strides[1], 1],\n",
    "        'SAME'\n",
    "    )\n",
    "\n",
    "\"\"\"\n",
    "DON'T MODIFY ANYTHING IN THIS CELL THAT IS BELOW THIS LINE\n",
    "\"\"\"\n",
    "tests.test_con_pool(conv2d_maxpool)"
   ]
  },
  {
   "cell_type": "markdown",
   "metadata": {},
   "source": [
    "### Flatten Layer\n",
    "Implement the `flatten` function to change the dimension of `x_tensor` from a 4-D tensor to a 2-D tensor.  The output should be the shape (*Batch Size*, *Flattened Image Size*). Shortcut option: you can use classes from the [TensorFlow Layers](https://www.tensorflow.org/api_docs/python/tf/layers) or [TensorFlow Layers (contrib)](https://www.tensorflow.org/api_guides/python/contrib.layers) packages for this layer. For more of a challenge, only use other TensorFlow packages."
   ]
  },
  {
   "cell_type": "code",
   "execution_count": 14,
   "metadata": {},
   "outputs": [
    {
     "name": "stdout",
     "output_type": "stream",
     "text": [
      "Tests Passed\n"
     ]
    }
   ],
   "source": [
    "def flatten(x_tensor):\n",
    "    \"\"\"\n",
    "    Flatten x_tensor to (Batch Size, Flattened Image Size)\n",
    "    : x_tensor: A tensor of size (Batch Size, ...), where ... are the image dimensions.\n",
    "    : return: A tensor of size (Batch Size, Flattened Image Size).\n",
    "    \"\"\"\n",
    "    # TODO: Implement Function\n",
    "    shape = x_tensor.get_shape().as_list()\n",
    "    return tf.reshape(x_tensor, [-1, np.prod(shape[1:])])\n",
    "\n",
    "\n",
    "\"\"\"\n",
    "DON'T MODIFY ANYTHING IN THIS CELL THAT IS BELOW THIS LINE\n",
    "\"\"\"\n",
    "tests.test_flatten(flatten)"
   ]
  },
  {
   "cell_type": "markdown",
   "metadata": {},
   "source": [
    "### Fully-Connected Layer\n",
    "Implement the `fully_conn` function to apply a fully connected layer to `x_tensor` with the shape (*Batch Size*, *num_outputs*). Shortcut option: you can use classes from the [TensorFlow Layers](https://www.tensorflow.org/api_docs/python/tf/layers) or [TensorFlow Layers (contrib)](https://www.tensorflow.org/api_guides/python/contrib.layers) packages for this layer. For more of a challenge, only use other TensorFlow packages."
   ]
  },
  {
   "cell_type": "code",
   "execution_count": 15,
   "metadata": {},
   "outputs": [
    {
     "name": "stdout",
     "output_type": "stream",
     "text": [
      "Tests Passed\n"
     ]
    }
   ],
   "source": [
    "def fully_conn(x_tensor, num_outputs):\n",
    "    \"\"\"\n",
    "    Apply a fully connected layer to x_tensor using weight and bias\n",
    "    : x_tensor: A 2-D tensor where the first dimension is batch size.\n",
    "    : num_outputs: The number of output that the new tensor should be.\n",
    "    : return: A 2-D tensor where the second dimension is num_outputs.\n",
    "    \"\"\"\n",
    "    # TODO: Implement Function\n",
    "    shape = x_tensor.get_shape().as_list()\n",
    "    \n",
    "    W = tf.Variable(tf.random_normal([shape[-1], num_outputs], stddev=0.1))\n",
    "    b = tf.Variable(tf.zeros(num_outputs)) + 0.11\n",
    "    \n",
    "    return tf.nn.relu(tf.add(tf.matmul(x_tensor, W), b))\n",
    "\n",
    "\n",
    "\"\"\"\n",
    "DON'T MODIFY ANYTHING IN THIS CELL THAT IS BELOW THIS LINE\n",
    "\"\"\"\n",
    "tests.test_fully_conn(fully_conn)"
   ]
  },
  {
   "cell_type": "markdown",
   "metadata": {},
   "source": [
    "### Output Layer\n",
    "Implement the `output` function to apply a fully connected layer to `x_tensor` with the shape (*Batch Size*, *num_outputs*). Shortcut option: you can use classes from the [TensorFlow Layers](https://www.tensorflow.org/api_docs/python/tf/layers) or [TensorFlow Layers (contrib)](https://www.tensorflow.org/api_guides/python/contrib.layers) packages for this layer. For more of a challenge, only use other TensorFlow packages.\n",
    "\n",
    "**Note:** Activation, softmax, or cross entropy should **not** be applied to this."
   ]
  },
  {
   "cell_type": "code",
   "execution_count": 16,
   "metadata": {},
   "outputs": [
    {
     "name": "stdout",
     "output_type": "stream",
     "text": [
      "Tests Passed\n"
     ]
    }
   ],
   "source": [
    "def output(x_tensor, num_outputs):\n",
    "    \"\"\"\n",
    "    Apply a output layer to x_tensor using weight and bias\n",
    "    : x_tensor: A 2-D tensor where the first dimension is batch size.\n",
    "    : num_outputs: The number of output that the new tensor should be.\n",
    "    : return: A 2-D tensor where the second dimension is num_outputs.\n",
    "    \"\"\"\n",
    "    # TODO: Implement Function\n",
    "    shape = x_tensor.get_shape().as_list()\n",
    "    \n",
    "    W = tf.Variable(tf.random_normal([shape[-1], num_outputs]))\n",
    "    b = tf.Variable(tf.zeros(num_outputs))\n",
    "    \n",
    "    return tf.add(tf.matmul(x_tensor, W), b)\n",
    "\n",
    "\n",
    "\"\"\"\n",
    "DON'T MODIFY ANYTHING IN THIS CELL THAT IS BELOW THIS LINE\n",
    "\"\"\"\n",
    "tests.test_output(output)"
   ]
  },
  {
   "cell_type": "markdown",
   "metadata": {},
   "source": [
    "### Create Convolutional Model\n",
    "Implement the function `conv_net` to create a convolutional neural network model. The function takes in a batch of images, `x`, and outputs logits.  Use the layers you created above to create this model:\n",
    "\n",
    "* Apply 1, 2, or 3 Convolution and Max Pool layers\n",
    "* Apply a Flatten Layer\n",
    "* Apply 1, 2, or 3 Fully Connected Layers\n",
    "* Apply an Output Layer\n",
    "* Return the output\n",
    "* Apply [TensorFlow's Dropout](https://www.tensorflow.org/api_docs/python/tf/nn/dropout) to one or more layers in the model using `keep_prob`. "
   ]
  },
  {
   "cell_type": "code",
   "execution_count": 17,
   "metadata": {},
   "outputs": [
    {
     "name": "stdout",
     "output_type": "stream",
     "text": [
      "Neural Network Built!\n"
     ]
    }
   ],
   "source": [
    "def conv_net(x, keep_prob):\n",
    "    \"\"\"\n",
    "    Create a convolutional neural network model\n",
    "    : x: Placeholder tensor that holds image data.\n",
    "    : keep_prob: Placeholder tensor that hold dropout keep probability.\n",
    "    : return: Tensor that represents logits\n",
    "    \"\"\"\n",
    "    # TODO: Apply 1, 2, or 3 Convolution and Max Pool layers\n",
    "    #    Play around with different number of outputs, kernel size and stride\n",
    "    # Function Definition from Above:\n",
    "    #    conv2d_maxpool(x_tensor, conv_num_outputs, conv_ksize, conv_strides, pool_ksize, pool_strides)\n",
    "    \n",
    "    tmp = conv2d_maxpool(x, 64, [3, 3], [1, 1], [3, 3], [2, 2])\n",
    "    tf.nn.dropout(tmp, keep_prob=keep_prob)\n",
    "\n",
    "    # TODO: Apply a Flatten Layer\n",
    "    # Function Definition from Above:\n",
    "    #   flatten(x_tensor)\n",
    "    \n",
    "    tmp = flatten(tmp)\n",
    "\n",
    "    # TODO: Apply 1, 2, or 3 Fully Connected Layers\n",
    "    #    Play around with different number of outputs\n",
    "    # Function Definition from Above:\n",
    "    #   fully_conn(x_tensor, num_outputs)\n",
    "    \n",
    "    tmp = fully_conn(tmp, 384)\n",
    "    tf.nn.dropout(tmp, keep_prob=keep_prob)\n",
    "    tmp = fully_conn(tmp, 192)\n",
    "    tf.nn.dropout(tmp, keep_prob=keep_prob)\n",
    "    \n",
    "    # TODO: Apply an Output Layer\n",
    "    #    Set this to the number of classes\n",
    "    # Function Definition from Above:\n",
    "    #   output(x_tensor, num_outputs)\n",
    "    \n",
    "    \n",
    "    # TODO: return output\n",
    "    return output(tmp, 10)\n",
    "\n",
    "\n",
    "\"\"\"\n",
    "DON'T MODIFY ANYTHING IN THIS CELL THAT IS BELOW THIS LINE\n",
    "\"\"\"\n",
    "\n",
    "##############################\n",
    "## Build the Neural Network ##\n",
    "##############################\n",
    "\n",
    "# Remove previous weights, bias, inputs, etc..\n",
    "tf.reset_default_graph()\n",
    "\n",
    "# Inputs\n",
    "x = neural_net_image_input((32, 32, 3))\n",
    "y = neural_net_label_input(10)\n",
    "keep_prob = neural_net_keep_prob_input()\n",
    "\n",
    "# Model\n",
    "logits = conv_net(x, keep_prob)\n",
    "\n",
    "# Name logits Tensor, so that is can be loaded from disk after training\n",
    "logits = tf.identity(logits, name='logits')\n",
    "\n",
    "# Loss and Optimizer\n",
    "cost = tf.reduce_mean(tf.nn.softmax_cross_entropy_with_logits(logits=logits, labels=y))\n",
    "optimizer = tf.train.AdamOptimizer().minimize(cost)\n",
    "\n",
    "# Accuracy\n",
    "correct_pred = tf.equal(tf.argmax(logits, 1), tf.argmax(y, 1))\n",
    "accuracy = tf.reduce_mean(tf.cast(correct_pred, tf.float32), name='accuracy')\n",
    "\n",
    "tests.test_conv_net(conv_net)"
   ]
  },
  {
   "cell_type": "markdown",
   "metadata": {},
   "source": [
    "## Train the Neural Network\n",
    "### Single Optimization\n",
    "Implement the function `train_neural_network` to do a single optimization.  The optimization should use `optimizer` to optimize in `session` with a `feed_dict` of the following:\n",
    "* `x` for image input\n",
    "* `y` for labels\n",
    "* `keep_prob` for keep probability for dropout\n",
    "\n",
    "This function will be called for each batch, so `tf.global_variables_initializer()` has already been called.\n",
    "\n",
    "Note: Nothing needs to be returned. This function is only optimizing the neural network."
   ]
  },
  {
   "cell_type": "code",
   "execution_count": 18,
   "metadata": {},
   "outputs": [
    {
     "name": "stdout",
     "output_type": "stream",
     "text": [
      "Tests Passed\n"
     ]
    }
   ],
   "source": [
    "def train_neural_network(session, optimizer, keep_probability, feature_batch, label_batch):\n",
    "    \"\"\"\n",
    "    Optimize the session on a batch of images and labels\n",
    "    : session: Current TensorFlow session\n",
    "    : optimizer: TensorFlow optimizer function\n",
    "    : keep_probability: keep probability\n",
    "    : feature_batch: Batch of Numpy image data\n",
    "    : label_batch: Batch of Numpy label data\n",
    "    \"\"\"\n",
    "    # TODO: Implement Function\n",
    "    session.run(optimizer, feed_dict={x: feature_batch, y: label_batch, keep_prob: keep_probability})\n",
    "\n",
    "\n",
    "\"\"\"\n",
    "DON'T MODIFY ANYTHING IN THIS CELL THAT IS BELOW THIS LINE\n",
    "\"\"\"\n",
    "tests.test_train_nn(train_neural_network)"
   ]
  },
  {
   "cell_type": "markdown",
   "metadata": {},
   "source": [
    "### Show Stats\n",
    "Implement the function `print_stats` to print loss and validation accuracy.  Use the global variables `valid_features` and `valid_labels` to calculate validation accuracy.  Use a keep probability of `1.0` to calculate the loss and validation accuracy."
   ]
  },
  {
   "cell_type": "code",
   "execution_count": 19,
   "metadata": {},
   "outputs": [],
   "source": [
    "def print_stats(session, feature_batch, label_batch, cost, accuracy):\n",
    "    \"\"\"\n",
    "    Print information about loss and validation accuracy\n",
    "    : session: Current TensorFlow session\n",
    "    : feature_batch: Batch of Numpy image data\n",
    "    : label_batch: Batch of Numpy label data\n",
    "    : cost: TensorFlow cost function\n",
    "    : accuracy: TensorFlow accuracy function\n",
    "    \"\"\"\n",
    "    # TODO: Implement Function\n",
    "    \n",
    "    global valid_features, valid_labels\n",
    "    \n",
    "    validation_accuracy = session.run(\n",
    "        accuracy,\n",
    "        feed_dict={\n",
    "            x: valid_features,\n",
    "            y: valid_labels,\n",
    "            keep_prob: 1.0,\n",
    "        }\n",
    "    )\n",
    "    \n",
    "    cost = session.run(\n",
    "        cost,\n",
    "        feed_dict={\n",
    "            x: feature_batch,\n",
    "            y: label_batch,\n",
    "            keep_prob: 1.0,\n",
    "        }\n",
    "    )\n",
    "    \n",
    "    print('Cost = {0} - Validation Accuracy = {1}'.format(cost, validation_accuracy))"
   ]
  },
  {
   "cell_type": "markdown",
   "metadata": {},
   "source": [
    "### Hyperparameters\n",
    "Tune the following parameters:\n",
    "* Set `epochs` to the number of iterations until the network stops learning or start overfitting\n",
    "* Set `batch_size` to the highest number that your machine has memory for.  Most people set them to common sizes of memory:\n",
    " * 64\n",
    " * 128\n",
    " * 256\n",
    " * ...\n",
    "* Set `keep_probability` to the probability of keeping a node using dropout"
   ]
  },
  {
   "cell_type": "code",
   "execution_count": 20,
   "metadata": {
    "collapsed": true
   },
   "outputs": [],
   "source": [
    "# TODO: Tune Parameters\n",
    "epochs = 50\n",
    "batch_size = 1024\n",
    "keep_probability = 0.7"
   ]
  },
  {
   "cell_type": "markdown",
   "metadata": {},
   "source": [
    "### Train on a Single CIFAR-10 Batch\n",
    "Instead of training the neural network on all the CIFAR-10 batches of data, let's use a single batch. This should save time while you iterate on the model to get a better accuracy.  Once the final validation accuracy is 50% or greater, run the model on all the data in the next section."
   ]
  },
  {
   "cell_type": "code",
   "execution_count": 21,
   "metadata": {},
   "outputs": [
    {
     "name": "stdout",
     "output_type": "stream",
     "text": [
      "Checking the Training on a Single Batch...\n",
      "Epoch  1, CIFAR-10 Batch 1:  Cost = 55.581275939941406 - Validation Accuracy = 0.10379999876022339\n",
      "Epoch  2, CIFAR-10 Batch 1:  Cost = 15.145779609680176 - Validation Accuracy = 0.12120000272989273\n",
      "Epoch  3, CIFAR-10 Batch 1:  Cost = 8.269147872924805 - Validation Accuracy = 0.1581999957561493\n",
      "Epoch  4, CIFAR-10 Batch 1:  Cost = 4.506552696228027 - Validation Accuracy = 0.19339999556541443\n",
      "Epoch  5, CIFAR-10 Batch 1:  Cost = 3.403573513031006 - Validation Accuracy = 0.24420000612735748\n",
      "Epoch  6, CIFAR-10 Batch 1:  Cost = 2.969019889831543 - Validation Accuracy = 0.27140000462532043\n",
      "Epoch  7, CIFAR-10 Batch 1:  Cost = 2.669919967651367 - Validation Accuracy = 0.28999999165534973\n",
      "Epoch  8, CIFAR-10 Batch 1:  Cost = 2.2534096240997314 - Validation Accuracy = 0.3285999894142151\n",
      "Epoch  9, CIFAR-10 Batch 1:  Cost = 1.982362151145935 - Validation Accuracy = 0.3635999858379364\n",
      "Epoch 10, CIFAR-10 Batch 1:  Cost = 1.8088504076004028 - Validation Accuracy = 0.38519999384880066\n",
      "Epoch 11, CIFAR-10 Batch 1:  Cost = 1.6516298055648804 - Validation Accuracy = 0.4131999909877777\n",
      "Epoch 12, CIFAR-10 Batch 1:  Cost = 1.5256357192993164 - Validation Accuracy = 0.42820000648498535\n",
      "Epoch 13, CIFAR-10 Batch 1:  Cost = 1.4284526109695435 - Validation Accuracy = 0.4422000050544739\n",
      "Epoch 14, CIFAR-10 Batch 1:  Cost = 1.3351492881774902 - Validation Accuracy = 0.4458000063896179\n",
      "Epoch 15, CIFAR-10 Batch 1:  Cost = 1.2550358772277832 - Validation Accuracy = 0.4611999988555908\n",
      "Epoch 16, CIFAR-10 Batch 1:  Cost = 1.1882823705673218 - Validation Accuracy = 0.4580000042915344\n",
      "Epoch 17, CIFAR-10 Batch 1:  Cost = 1.1364977359771729 - Validation Accuracy = 0.4684000015258789\n",
      "Epoch 18, CIFAR-10 Batch 1:  Cost = 1.0967541933059692 - Validation Accuracy = 0.46160000562667847\n",
      "Epoch 19, CIFAR-10 Batch 1:  Cost = 1.0143166780471802 - Validation Accuracy = 0.4779999852180481\n",
      "Epoch 20, CIFAR-10 Batch 1:  Cost = 0.9376010894775391 - Validation Accuracy = 0.48559999465942383\n",
      "Epoch 21, CIFAR-10 Batch 1:  Cost = 0.9516220688819885 - Validation Accuracy = 0.48919999599456787\n",
      "Epoch 22, CIFAR-10 Batch 1:  Cost = 0.8805322647094727 - Validation Accuracy = 0.4851999878883362\n",
      "Epoch 23, CIFAR-10 Batch 1:  Cost = 0.8202117085456848 - Validation Accuracy = 0.49540001153945923\n",
      "Epoch 24, CIFAR-10 Batch 1:  Cost = 0.8003531694412231 - Validation Accuracy = 0.492000013589859\n",
      "Epoch 25, CIFAR-10 Batch 1:  Cost = 0.7671844363212585 - Validation Accuracy = 0.4918000102043152\n",
      "Epoch 26, CIFAR-10 Batch 1:  Cost = 0.7530325651168823 - Validation Accuracy = 0.48660001158714294\n",
      "Epoch 27, CIFAR-10 Batch 1:  Cost = 0.7333564162254333 - Validation Accuracy = 0.4867999851703644\n",
      "Epoch 28, CIFAR-10 Batch 1:  Cost = 0.6981421709060669 - Validation Accuracy = 0.49300000071525574\n",
      "Epoch 29, CIFAR-10 Batch 1:  Cost = 0.6624987125396729 - Validation Accuracy = 0.506600022315979\n",
      "Epoch 30, CIFAR-10 Batch 1:  Cost = 0.7045848369598389 - Validation Accuracy = 0.4943999946117401\n",
      "Epoch 31, CIFAR-10 Batch 1:  Cost = 0.6263653039932251 - Validation Accuracy = 0.5077999830245972\n",
      "Epoch 32, CIFAR-10 Batch 1:  Cost = 0.6193187236785889 - Validation Accuracy = 0.5070000290870667\n",
      "Epoch 33, CIFAR-10 Batch 1:  Cost = 0.5776774287223816 - Validation Accuracy = 0.5145999789237976\n",
      "Epoch 34, CIFAR-10 Batch 1:  Cost = 0.5366663336753845 - Validation Accuracy = 0.5180000066757202\n",
      "Epoch 35, CIFAR-10 Batch 1:  Cost = 0.5075854659080505 - Validation Accuracy = 0.5174000263214111\n",
      "Epoch 36, CIFAR-10 Batch 1:  Cost = 0.4956940710544586 - Validation Accuracy = 0.5171999931335449\n",
      "Epoch 37, CIFAR-10 Batch 1:  Cost = 0.48134681582450867 - Validation Accuracy = 0.5188000202178955\n",
      "Epoch 38, CIFAR-10 Batch 1:  Cost = 0.4670567214488983 - Validation Accuracy = 0.5199999809265137\n",
      "Epoch 39, CIFAR-10 Batch 1:  Cost = 0.4381517767906189 - Validation Accuracy = 0.5249999761581421\n",
      "Epoch 40, CIFAR-10 Batch 1:  Cost = 0.44415441155433655 - Validation Accuracy = 0.525600016117096\n",
      "Epoch 41, CIFAR-10 Batch 1:  Cost = 0.4684203267097473 - Validation Accuracy = 0.5180000066757202\n",
      "Epoch 42, CIFAR-10 Batch 1:  Cost = 0.4478137195110321 - Validation Accuracy = 0.5185999870300293\n",
      "Epoch 43, CIFAR-10 Batch 1:  Cost = 0.4067733585834503 - Validation Accuracy = 0.5162000060081482\n",
      "Epoch 44, CIFAR-10 Batch 1:  Cost = 0.42269232869148254 - Validation Accuracy = 0.5109999775886536\n",
      "Epoch 45, CIFAR-10 Batch 1:  Cost = 0.375806987285614 - Validation Accuracy = 0.5257999897003174\n",
      "Epoch 46, CIFAR-10 Batch 1:  Cost = 0.33882367610931396 - Validation Accuracy = 0.5307999849319458\n",
      "Epoch 47, CIFAR-10 Batch 1:  Cost = 0.33189913630485535 - Validation Accuracy = 0.5315999984741211\n",
      "Epoch 48, CIFAR-10 Batch 1:  Cost = 0.3125179708003998 - Validation Accuracy = 0.5360000133514404\n",
      "Epoch 49, CIFAR-10 Batch 1:  Cost = 0.31307175755500793 - Validation Accuracy = 0.5296000242233276\n",
      "Epoch 50, CIFAR-10 Batch 1:  Cost = 0.3053598403930664 - Validation Accuracy = 0.5249999761581421\n"
     ]
    }
   ],
   "source": [
    "\"\"\"\n",
    "DON'T MODIFY ANYTHING IN THIS CELL\n",
    "\"\"\"\n",
    "print('Checking the Training on a Single Batch...')\n",
    "with tf.Session() as sess:\n",
    "    # Initializing the variables\n",
    "    sess.run(tf.global_variables_initializer())\n",
    "    \n",
    "    # Training cycle\n",
    "    for epoch in range(epochs):\n",
    "        batch_i = 1\n",
    "        for batch_features, batch_labels in helper.load_preprocess_training_batch(batch_i, batch_size):\n",
    "            train_neural_network(sess, optimizer, keep_probability, batch_features, batch_labels)\n",
    "        print('Epoch {:>2}, CIFAR-10 Batch {}:  '.format(epoch + 1, batch_i), end='')\n",
    "        print_stats(sess, batch_features, batch_labels, cost, accuracy)"
   ]
  },
  {
   "cell_type": "markdown",
   "metadata": {},
   "source": [
    "### Fully Train the Model\n",
    "Now that you got a good accuracy with a single CIFAR-10 batch, try it with all five batches."
   ]
  },
  {
   "cell_type": "code",
   "execution_count": 22,
   "metadata": {},
   "outputs": [
    {
     "name": "stdout",
     "output_type": "stream",
     "text": [
      "Training...\n",
      "Epoch  1, CIFAR-10 Batch 1:  Cost = 32.83803176879883 - Validation Accuracy = 0.13179999589920044\n",
      "Epoch  1, CIFAR-10 Batch 2:  Cost = 12.445085525512695 - Validation Accuracy = 0.1573999971151352\n",
      "Epoch  1, CIFAR-10 Batch 3:  Cost = 5.349203109741211 - Validation Accuracy = 0.18019999563694\n",
      "Epoch  1, CIFAR-10 Batch 4:  Cost = 3.7912392616271973 - Validation Accuracy = 0.20340000092983246\n",
      "Epoch  1, CIFAR-10 Batch 5:  Cost = 3.133343458175659 - Validation Accuracy = 0.24619999527931213\n",
      "Epoch  2, CIFAR-10 Batch 1:  Cost = 2.6720030307769775 - Validation Accuracy = 0.2793999910354614\n",
      "Epoch  2, CIFAR-10 Batch 2:  Cost = 2.478847026824951 - Validation Accuracy = 0.29319998621940613\n",
      "Epoch  2, CIFAR-10 Batch 3:  Cost = 2.3353283405303955 - Validation Accuracy = 0.31360000371932983\n",
      "Epoch  2, CIFAR-10 Batch 4:  Cost = 2.17293381690979 - Validation Accuracy = 0.3492000102996826\n",
      "Epoch  2, CIFAR-10 Batch 5:  Cost = 2.0283043384552 - Validation Accuracy = 0.3662000000476837\n",
      "Epoch  3, CIFAR-10 Batch 1:  Cost = 1.901517391204834 - Validation Accuracy = 0.38359999656677246\n",
      "Epoch  3, CIFAR-10 Batch 2:  Cost = 1.8437952995300293 - Validation Accuracy = 0.4097999930381775\n",
      "Epoch  3, CIFAR-10 Batch 3:  Cost = 1.7266632318496704 - Validation Accuracy = 0.4163999855518341\n",
      "Epoch  3, CIFAR-10 Batch 4:  Cost = 1.7039921283721924 - Validation Accuracy = 0.4341999888420105\n",
      "Epoch  3, CIFAR-10 Batch 5:  Cost = 1.5556042194366455 - Validation Accuracy = 0.446399986743927\n",
      "Epoch  4, CIFAR-10 Batch 1:  Cost = 1.5434931516647339 - Validation Accuracy = 0.4636000096797943\n",
      "Epoch  4, CIFAR-10 Batch 2:  Cost = 1.5275524854660034 - Validation Accuracy = 0.46720001101493835\n",
      "Epoch  4, CIFAR-10 Batch 3:  Cost = 1.3968974351882935 - Validation Accuracy = 0.4796000123023987\n",
      "Epoch  4, CIFAR-10 Batch 4:  Cost = 1.4137712717056274 - Validation Accuracy = 0.48420000076293945\n",
      "Epoch  4, CIFAR-10 Batch 5:  Cost = 1.3223665952682495 - Validation Accuracy = 0.49239999055862427\n",
      "Epoch  5, CIFAR-10 Batch 1:  Cost = 1.3330904245376587 - Validation Accuracy = 0.5076000094413757\n",
      "Epoch  5, CIFAR-10 Batch 2:  Cost = 1.3410005569458008 - Validation Accuracy = 0.503000020980835\n",
      "Epoch  5, CIFAR-10 Batch 3:  Cost = 1.2096914052963257 - Validation Accuracy = 0.5138000249862671\n",
      "Epoch  5, CIFAR-10 Batch 4:  Cost = 1.2524433135986328 - Validation Accuracy = 0.5192000269889832\n",
      "Epoch  5, CIFAR-10 Batch 5:  Cost = 1.1625303030014038 - Validation Accuracy = 0.5296000242233276\n",
      "Epoch  6, CIFAR-10 Batch 1:  Cost = 1.1907567977905273 - Validation Accuracy = 0.5397999882698059\n",
      "Epoch  6, CIFAR-10 Batch 2:  Cost = 1.200087070465088 - Validation Accuracy = 0.5356000065803528\n",
      "Epoch  6, CIFAR-10 Batch 3:  Cost = 1.0699464082717896 - Validation Accuracy = 0.5425999760627747\n",
      "Epoch  6, CIFAR-10 Batch 4:  Cost = 1.1290194988250732 - Validation Accuracy = 0.5411999821662903\n",
      "Epoch  6, CIFAR-10 Batch 5:  Cost = 1.05753755569458 - Validation Accuracy = 0.5479999780654907\n",
      "Epoch  7, CIFAR-10 Batch 1:  Cost = 1.0836342573165894 - Validation Accuracy = 0.5586000084877014\n",
      "Epoch  7, CIFAR-10 Batch 2:  Cost = 1.0987271070480347 - Validation Accuracy = 0.5564000010490417\n",
      "Epoch  7, CIFAR-10 Batch 3:  Cost = 0.9776304364204407 - Validation Accuracy = 0.5631999969482422\n",
      "Epoch  7, CIFAR-10 Batch 4:  Cost = 1.0307806730270386 - Validation Accuracy = 0.5573999881744385\n",
      "Epoch  7, CIFAR-10 Batch 5:  Cost = 0.9699549674987793 - Validation Accuracy = 0.5627999901771545\n",
      "Epoch  8, CIFAR-10 Batch 1:  Cost = 1.0005593299865723 - Validation Accuracy = 0.5716000199317932\n",
      "Epoch  8, CIFAR-10 Batch 2:  Cost = 1.0157514810562134 - Validation Accuracy = 0.5663999915122986\n",
      "Epoch  8, CIFAR-10 Batch 3:  Cost = 0.9044725894927979 - Validation Accuracy = 0.5759999752044678\n",
      "Epoch  8, CIFAR-10 Batch 4:  Cost = 0.9509298205375671 - Validation Accuracy = 0.5690000057220459\n",
      "Epoch  8, CIFAR-10 Batch 5:  Cost = 0.9016247987747192 - Validation Accuracy = 0.5727999806404114\n",
      "Epoch  9, CIFAR-10 Batch 1:  Cost = 0.9272605776786804 - Validation Accuracy = 0.5806000232696533\n",
      "Epoch  9, CIFAR-10 Batch 2:  Cost = 0.9390710592269897 - Validation Accuracy = 0.5781999826431274\n",
      "Epoch  9, CIFAR-10 Batch 3:  Cost = 0.8439017534255981 - Validation Accuracy = 0.5784000158309937\n",
      "Epoch  9, CIFAR-10 Batch 4:  Cost = 0.8859028816223145 - Validation Accuracy = 0.578000009059906\n",
      "Epoch  9, CIFAR-10 Batch 5:  Cost = 0.8439282774925232 - Validation Accuracy = 0.5839999914169312\n",
      "Epoch 10, CIFAR-10 Batch 1:  Cost = 0.8593271374702454 - Validation Accuracy = 0.5934000015258789\n",
      "Epoch 10, CIFAR-10 Batch 2:  Cost = 0.8770551681518555 - Validation Accuracy = 0.5867999792098999\n",
      "Epoch 10, CIFAR-10 Batch 3:  Cost = 0.7993985414505005 - Validation Accuracy = 0.5789999961853027\n",
      "Epoch 10, CIFAR-10 Batch 4:  Cost = 0.8132011294364929 - Validation Accuracy = 0.5870000123977661\n",
      "Epoch 10, CIFAR-10 Batch 5:  Cost = 0.8128980994224548 - Validation Accuracy = 0.5884000062942505\n",
      "Epoch 11, CIFAR-10 Batch 1:  Cost = 0.8220506310462952 - Validation Accuracy = 0.5863999724388123\n",
      "Epoch 11, CIFAR-10 Batch 2:  Cost = 0.8185660243034363 - Validation Accuracy = 0.5893999934196472\n",
      "Epoch 11, CIFAR-10 Batch 3:  Cost = 0.7617788910865784 - Validation Accuracy = 0.5893999934196472\n",
      "Epoch 11, CIFAR-10 Batch 4:  Cost = 0.7699008584022522 - Validation Accuracy = 0.5920000076293945\n",
      "Epoch 11, CIFAR-10 Batch 5:  Cost = 0.7720478773117065 - Validation Accuracy = 0.5881999731063843\n",
      "Epoch 12, CIFAR-10 Batch 1:  Cost = 0.8413302898406982 - Validation Accuracy = 0.5723999738693237\n",
      "Epoch 12, CIFAR-10 Batch 2:  Cost = 0.7974241375923157 - Validation Accuracy = 0.593999981880188\n",
      "Epoch 12, CIFAR-10 Batch 3:  Cost = 0.7003428936004639 - Validation Accuracy = 0.6007999777793884\n",
      "Epoch 12, CIFAR-10 Batch 4:  Cost = 0.7351121306419373 - Validation Accuracy = 0.59579998254776\n",
      "Epoch 12, CIFAR-10 Batch 5:  Cost = 0.7024179697036743 - Validation Accuracy = 0.590399980545044\n",
      "Epoch 13, CIFAR-10 Batch 1:  Cost = 0.7807716727256775 - Validation Accuracy = 0.5817999839782715\n",
      "Epoch 13, CIFAR-10 Batch 2:  Cost = 0.798174262046814 - Validation Accuracy = 0.5893999934196472\n",
      "Epoch 13, CIFAR-10 Batch 3:  Cost = 0.6714057326316833 - Validation Accuracy = 0.597599983215332\n",
      "Epoch 13, CIFAR-10 Batch 4:  Cost = 0.6759032607078552 - Validation Accuracy = 0.6037999987602234\n",
      "Epoch 13, CIFAR-10 Batch 5:  Cost = 0.6462958455085754 - Validation Accuracy = 0.6011999845504761\n",
      "Epoch 14, CIFAR-10 Batch 1:  Cost = 0.7167263031005859 - Validation Accuracy = 0.5875999927520752\n",
      "Epoch 14, CIFAR-10 Batch 2:  Cost = 0.7278337478637695 - Validation Accuracy = 0.5956000089645386\n",
      "Epoch 14, CIFAR-10 Batch 3:  Cost = 0.6346784830093384 - Validation Accuracy = 0.600600004196167\n",
      "Epoch 14, CIFAR-10 Batch 4:  Cost = 0.6191907525062561 - Validation Accuracy = 0.6115999817848206\n",
      "Epoch 14, CIFAR-10 Batch 5:  Cost = 0.600969135761261 - Validation Accuracy = 0.6061999797821045\n",
      "Epoch 15, CIFAR-10 Batch 1:  Cost = 0.673504114151001 - Validation Accuracy = 0.6010000109672546\n",
      "Epoch 15, CIFAR-10 Batch 2:  Cost = 0.6603883504867554 - Validation Accuracy = 0.6068000197410583\n",
      "Epoch 15, CIFAR-10 Batch 3:  Cost = 0.6113724112510681 - Validation Accuracy = 0.5979999899864197\n",
      "Epoch 15, CIFAR-10 Batch 4:  Cost = 0.59553062915802 - Validation Accuracy = 0.6093999743461609\n",
      "Epoch 15, CIFAR-10 Batch 5:  Cost = 0.5523682236671448 - Validation Accuracy = 0.6047999858856201\n",
      "Epoch 16, CIFAR-10 Batch 1:  Cost = 0.6523967981338501 - Validation Accuracy = 0.5997999906539917\n",
      "Epoch 16, CIFAR-10 Batch 2:  Cost = 0.6408277750015259 - Validation Accuracy = 0.6051999926567078\n",
      "Epoch 16, CIFAR-10 Batch 3:  Cost = 0.5719690322875977 - Validation Accuracy = 0.6101999878883362\n",
      "Epoch 16, CIFAR-10 Batch 4:  Cost = 0.5655205845832825 - Validation Accuracy = 0.6055999994277954\n",
      "Epoch 16, CIFAR-10 Batch 5:  Cost = 0.5353919863700867 - Validation Accuracy = 0.6064000129699707\n",
      "Epoch 17, CIFAR-10 Batch 1:  Cost = 0.6257553696632385 - Validation Accuracy = 0.6019999980926514\n",
      "Epoch 17, CIFAR-10 Batch 2:  Cost = 0.598063588142395 - Validation Accuracy = 0.6079999804496765\n",
      "Epoch 17, CIFAR-10 Batch 3:  Cost = 0.5342385172843933 - Validation Accuracy = 0.6133999824523926\n",
      "Epoch 17, CIFAR-10 Batch 4:  Cost = 0.5488240718841553 - Validation Accuracy = 0.5996000170707703\n",
      "Epoch 17, CIFAR-10 Batch 5:  Cost = 0.5279797315597534 - Validation Accuracy = 0.5974000096321106\n",
      "Epoch 18, CIFAR-10 Batch 1:  Cost = 0.6023479700088501 - Validation Accuracy = 0.6010000109672546\n",
      "Epoch 18, CIFAR-10 Batch 2:  Cost = 0.5860792994499207 - Validation Accuracy = 0.6039999723434448\n",
      "Epoch 18, CIFAR-10 Batch 3:  Cost = 0.5475293397903442 - Validation Accuracy = 0.6075999736785889\n",
      "Epoch 18, CIFAR-10 Batch 4:  Cost = 0.5322391390800476 - Validation Accuracy = 0.5982000231742859\n",
      "Epoch 18, CIFAR-10 Batch 5:  Cost = 0.495903879404068 - Validation Accuracy = 0.5910000205039978\n",
      "Epoch 19, CIFAR-10 Batch 1:  Cost = 0.5464715957641602 - Validation Accuracy = 0.6096000075340271\n",
      "Epoch 19, CIFAR-10 Batch 2:  Cost = 0.6522319316864014 - Validation Accuracy = 0.5759999752044678\n",
      "Epoch 19, CIFAR-10 Batch 3:  Cost = 0.5155449509620667 - Validation Accuracy = 0.6039999723434448\n",
      "Epoch 19, CIFAR-10 Batch 4:  Cost = 0.4875304698944092 - Validation Accuracy = 0.6168000102043152\n",
      "Epoch 19, CIFAR-10 Batch 5:  Cost = 0.4604312479496002 - Validation Accuracy = 0.5971999764442444\n",
      "Epoch 20, CIFAR-10 Batch 1:  Cost = 0.5757662057876587 - Validation Accuracy = 0.5971999764442444\n",
      "Epoch 20, CIFAR-10 Batch 2:  Cost = 0.5200658440589905 - Validation Accuracy = 0.6132000088691711\n",
      "Epoch 20, CIFAR-10 Batch 3:  Cost = 0.46180665493011475 - Validation Accuracy = 0.6021999716758728\n",
      "Epoch 20, CIFAR-10 Batch 4:  Cost = 0.47588416934013367 - Validation Accuracy = 0.6182000041007996\n",
      "Epoch 20, CIFAR-10 Batch 5:  Cost = 0.4071490466594696 - Validation Accuracy = 0.6176000237464905\n",
      "Epoch 21, CIFAR-10 Batch 1:  Cost = 0.488456130027771 - Validation Accuracy = 0.6111999750137329\n",
      "Epoch 21, CIFAR-10 Batch 2:  Cost = 0.4840417206287384 - Validation Accuracy = 0.6137999892234802\n",
      "Epoch 21, CIFAR-10 Batch 3:  Cost = 0.42431163787841797 - Validation Accuracy = 0.6115999817848206\n",
      "Epoch 21, CIFAR-10 Batch 4:  Cost = 0.43229952454566956 - Validation Accuracy = 0.6208000183105469\n",
      "Epoch 21, CIFAR-10 Batch 5:  Cost = 0.3925696611404419 - Validation Accuracy = 0.6164000034332275\n",
      "Epoch 22, CIFAR-10 Batch 1:  Cost = 0.47341951727867126 - Validation Accuracy = 0.6101999878883362\n",
      "Epoch 22, CIFAR-10 Batch 2:  Cost = 0.4455856382846832 - Validation Accuracy = 0.6150000095367432\n",
      "Epoch 22, CIFAR-10 Batch 3:  Cost = 0.4159586727619171 - Validation Accuracy = 0.603600025177002\n",
      "Epoch 22, CIFAR-10 Batch 4:  Cost = 0.42743203043937683 - Validation Accuracy = 0.6043999791145325\n",
      "Epoch 22, CIFAR-10 Batch 5:  Cost = 0.38107797503471375 - Validation Accuracy = 0.6078000068664551\n",
      "Epoch 23, CIFAR-10 Batch 1:  Cost = 0.503728985786438 - Validation Accuracy = 0.5928000211715698\n",
      "Epoch 23, CIFAR-10 Batch 2:  Cost = 0.4673360586166382 - Validation Accuracy = 0.6051999926567078\n",
      "Epoch 23, CIFAR-10 Batch 3:  Cost = 0.39567989110946655 - Validation Accuracy = 0.6079999804496765\n",
      "Epoch 23, CIFAR-10 Batch 4:  Cost = 0.4529730975627899 - Validation Accuracy = 0.5888000130653381\n",
      "Epoch 23, CIFAR-10 Batch 5:  Cost = 0.45374274253845215 - Validation Accuracy = 0.5703999996185303\n",
      "Epoch 24, CIFAR-10 Batch 1:  Cost = 0.4445943832397461 - Validation Accuracy = 0.6083999872207642\n",
      "Epoch 24, CIFAR-10 Batch 2:  Cost = 0.45365506410598755 - Validation Accuracy = 0.609000027179718\n",
      "Epoch 24, CIFAR-10 Batch 3:  Cost = 0.43440279364585876 - Validation Accuracy = 0.6100000143051147\n",
      "Epoch 24, CIFAR-10 Batch 4:  Cost = 0.36733609437942505 - Validation Accuracy = 0.6069999933242798\n",
      "Epoch 24, CIFAR-10 Batch 5:  Cost = 0.36095142364501953 - Validation Accuracy = 0.592199981212616\n",
      "Epoch 25, CIFAR-10 Batch 1:  Cost = 0.44943925738334656 - Validation Accuracy = 0.6169999837875366\n",
      "Epoch 25, CIFAR-10 Batch 2:  Cost = 0.3987187445163727 - Validation Accuracy = 0.6119999885559082\n",
      "Epoch 25, CIFAR-10 Batch 3:  Cost = 0.3582301437854767 - Validation Accuracy = 0.621399998664856\n",
      "Epoch 25, CIFAR-10 Batch 4:  Cost = 0.31954139471054077 - Validation Accuracy = 0.6173999905586243\n",
      "Epoch 25, CIFAR-10 Batch 5:  Cost = 0.30763381719589233 - Validation Accuracy = 0.6132000088691711\n",
      "Epoch 26, CIFAR-10 Batch 1:  Cost = 0.3947584629058838 - Validation Accuracy = 0.6284000277519226\n",
      "Epoch 26, CIFAR-10 Batch 2:  Cost = 0.36711931228637695 - Validation Accuracy = 0.621999979019165\n",
      "Epoch 26, CIFAR-10 Batch 3:  Cost = 0.35491347312927246 - Validation Accuracy = 0.6173999905586243\n",
      "Epoch 26, CIFAR-10 Batch 4:  Cost = 0.29131239652633667 - Validation Accuracy = 0.6197999715805054\n",
      "Epoch 26, CIFAR-10 Batch 5:  Cost = 0.2960277497768402 - Validation Accuracy = 0.6118000149726868\n",
      "Epoch 27, CIFAR-10 Batch 1:  Cost = 0.37542369961738586 - Validation Accuracy = 0.6222000122070312\n",
      "Epoch 27, CIFAR-10 Batch 2:  Cost = 0.33489981293678284 - Validation Accuracy = 0.6223999857902527\n",
      "Epoch 27, CIFAR-10 Batch 3:  Cost = 0.327495276927948 - Validation Accuracy = 0.6141999959945679\n",
      "Epoch 27, CIFAR-10 Batch 4:  Cost = 0.29078540205955505 - Validation Accuracy = 0.6195999979972839\n",
      "Epoch 27, CIFAR-10 Batch 5:  Cost = 0.2660636603832245 - Validation Accuracy = 0.6179999709129333\n",
      "Epoch 28, CIFAR-10 Batch 1:  Cost = 0.3658636808395386 - Validation Accuracy = 0.6051999926567078\n",
      "Epoch 28, CIFAR-10 Batch 2:  Cost = 0.31230902671813965 - Validation Accuracy = 0.6269999742507935\n",
      "Epoch 28, CIFAR-10 Batch 3:  Cost = 0.27971842885017395 - Validation Accuracy = 0.6245999932289124\n",
      "Epoch 28, CIFAR-10 Batch 4:  Cost = 0.2934417426586151 - Validation Accuracy = 0.6164000034332275\n",
      "Epoch 28, CIFAR-10 Batch 5:  Cost = 0.2516147792339325 - Validation Accuracy = 0.6233999729156494\n",
      "Epoch 29, CIFAR-10 Batch 1:  Cost = 0.371055006980896 - Validation Accuracy = 0.5996000170707703\n",
      "Epoch 29, CIFAR-10 Batch 2:  Cost = 0.32244446873664856 - Validation Accuracy = 0.614799976348877\n",
      "Epoch 29, CIFAR-10 Batch 3:  Cost = 0.27555856108665466 - Validation Accuracy = 0.6223999857902527\n",
      "Epoch 29, CIFAR-10 Batch 4:  Cost = 0.28849664330482483 - Validation Accuracy = 0.609000027179718\n",
      "Epoch 29, CIFAR-10 Batch 5:  Cost = 0.26109182834625244 - Validation Accuracy = 0.6187999844551086\n",
      "Epoch 30, CIFAR-10 Batch 1:  Cost = 0.3516577482223511 - Validation Accuracy = 0.6068000197410583\n",
      "Epoch 30, CIFAR-10 Batch 2:  Cost = 0.3144500255584717 - Validation Accuracy = 0.614799976348877\n",
      "Epoch 30, CIFAR-10 Batch 3:  Cost = 0.3047008812427521 - Validation Accuracy = 0.6144000291824341\n",
      "Epoch 30, CIFAR-10 Batch 4:  Cost = 0.2595904767513275 - Validation Accuracy = 0.6043999791145325\n",
      "Epoch 30, CIFAR-10 Batch 5:  Cost = 0.25086161494255066 - Validation Accuracy = 0.6194000244140625\n",
      "Epoch 31, CIFAR-10 Batch 1:  Cost = 0.33804818987846375 - Validation Accuracy = 0.6028000116348267\n",
      "Epoch 31, CIFAR-10 Batch 2:  Cost = 0.2732583284378052 - Validation Accuracy = 0.6205999851226807\n",
      "Epoch 31, CIFAR-10 Batch 3:  Cost = 0.24041958153247833 - Validation Accuracy = 0.6251999735832214\n",
      "Epoch 31, CIFAR-10 Batch 4:  Cost = 0.2348412573337555 - Validation Accuracy = 0.602400004863739\n",
      "Epoch 31, CIFAR-10 Batch 5:  Cost = 0.22983425855636597 - Validation Accuracy = 0.6168000102043152\n",
      "Epoch 32, CIFAR-10 Batch 1:  Cost = 0.3039570152759552 - Validation Accuracy = 0.607200026512146\n",
      "Epoch 32, CIFAR-10 Batch 2:  Cost = 0.2586688995361328 - Validation Accuracy = 0.6158000230789185\n",
      "Epoch 32, CIFAR-10 Batch 3:  Cost = 0.2751864194869995 - Validation Accuracy = 0.6155999898910522\n",
      "Epoch 32, CIFAR-10 Batch 4:  Cost = 0.22308771312236786 - Validation Accuracy = 0.6096000075340271\n",
      "Epoch 32, CIFAR-10 Batch 5:  Cost = 0.23735079169273376 - Validation Accuracy = 0.6164000034332275\n",
      "Epoch 33, CIFAR-10 Batch 1:  Cost = 0.2951854169368744 - Validation Accuracy = 0.6021999716758728\n",
      "Epoch 33, CIFAR-10 Batch 2:  Cost = 0.2710832357406616 - Validation Accuracy = 0.6039999723434448\n",
      "Epoch 33, CIFAR-10 Batch 3:  Cost = 0.28739410638809204 - Validation Accuracy = 0.6055999994277954\n",
      "Epoch 33, CIFAR-10 Batch 4:  Cost = 0.22536273300647736 - Validation Accuracy = 0.6051999926567078\n",
      "Epoch 33, CIFAR-10 Batch 5:  Cost = 0.2342708855867386 - Validation Accuracy = 0.6119999885559082\n",
      "Epoch 34, CIFAR-10 Batch 1:  Cost = 0.2685135006904602 - Validation Accuracy = 0.6018000245094299\n",
      "Epoch 34, CIFAR-10 Batch 2:  Cost = 0.292988657951355 - Validation Accuracy = 0.6001999974250793\n",
      "Epoch 34, CIFAR-10 Batch 3:  Cost = 0.23644179105758667 - Validation Accuracy = 0.6126000285148621\n",
      "Epoch 34, CIFAR-10 Batch 4:  Cost = 0.2130066454410553 - Validation Accuracy = 0.6082000136375427\n",
      "Epoch 34, CIFAR-10 Batch 5:  Cost = 0.18198449909687042 - Validation Accuracy = 0.6173999905586243\n",
      "Epoch 35, CIFAR-10 Batch 1:  Cost = 0.25919845700263977 - Validation Accuracy = 0.6172000169754028\n",
      "Epoch 35, CIFAR-10 Batch 2:  Cost = 0.21987605094909668 - Validation Accuracy = 0.6140000224113464\n",
      "Epoch 35, CIFAR-10 Batch 3:  Cost = 0.22447489202022552 - Validation Accuracy = 0.6161999702453613\n",
      "Epoch 35, CIFAR-10 Batch 4:  Cost = 0.21245703101158142 - Validation Accuracy = 0.6043999791145325\n",
      "Epoch 35, CIFAR-10 Batch 5:  Cost = 0.22704507410526276 - Validation Accuracy = 0.6037999987602234\n",
      "Epoch 36, CIFAR-10 Batch 1:  Cost = 0.2115829735994339 - Validation Accuracy = 0.628600001335144\n",
      "Epoch 36, CIFAR-10 Batch 2:  Cost = 0.24653714895248413 - Validation Accuracy = 0.6087999939918518\n",
      "Epoch 36, CIFAR-10 Batch 3:  Cost = 0.30710625648498535 - Validation Accuracy = 0.5935999751091003\n",
      "Epoch 36, CIFAR-10 Batch 4:  Cost = 0.1983107328414917 - Validation Accuracy = 0.5997999906539917\n",
      "Epoch 36, CIFAR-10 Batch 5:  Cost = 0.2002982348203659 - Validation Accuracy = 0.6047999858856201\n",
      "Epoch 37, CIFAR-10 Batch 1:  Cost = 0.25090694427490234 - Validation Accuracy = 0.6087999939918518\n",
      "Epoch 37, CIFAR-10 Batch 2:  Cost = 0.21783286333084106 - Validation Accuracy = 0.6075999736785889\n",
      "Epoch 37, CIFAR-10 Batch 3:  Cost = 0.25058624148368835 - Validation Accuracy = 0.5952000021934509\n",
      "Epoch 37, CIFAR-10 Batch 4:  Cost = 0.17914028465747833 - Validation Accuracy = 0.6046000123023987\n",
      "Epoch 37, CIFAR-10 Batch 5:  Cost = 0.15953472256660461 - Validation Accuracy = 0.6215999722480774\n",
      "Epoch 38, CIFAR-10 Batch 1:  Cost = 0.252331405878067 - Validation Accuracy = 0.6057999730110168\n",
      "Epoch 38, CIFAR-10 Batch 2:  Cost = 0.22844377160072327 - Validation Accuracy = 0.5983999967575073\n",
      "Epoch 38, CIFAR-10 Batch 3:  Cost = 0.19125337898731232 - Validation Accuracy = 0.6150000095367432\n",
      "Epoch 38, CIFAR-10 Batch 4:  Cost = 0.16019463539123535 - Validation Accuracy = 0.6114000082015991\n",
      "Epoch 38, CIFAR-10 Batch 5:  Cost = 0.15053613483905792 - Validation Accuracy = 0.6245999932289124\n",
      "Epoch 39, CIFAR-10 Batch 1:  Cost = 0.22909903526306152 - Validation Accuracy = 0.6082000136375427\n",
      "Epoch 39, CIFAR-10 Batch 2:  Cost = 0.17295387387275696 - Validation Accuracy = 0.621399998664856\n",
      "Epoch 39, CIFAR-10 Batch 3:  Cost = 0.197306826710701 - Validation Accuracy = 0.61080002784729\n",
      "Epoch 39, CIFAR-10 Batch 4:  Cost = 0.17739060521125793 - Validation Accuracy = 0.6097999811172485\n",
      "Epoch 39, CIFAR-10 Batch 5:  Cost = 0.18263322114944458 - Validation Accuracy = 0.6043999791145325\n",
      "Epoch 40, CIFAR-10 Batch 1:  Cost = 0.18892301619052887 - Validation Accuracy = 0.6122000217437744\n",
      "Epoch 40, CIFAR-10 Batch 2:  Cost = 0.19354909658432007 - Validation Accuracy = 0.6065999865531921\n",
      "Epoch 40, CIFAR-10 Batch 3:  Cost = 0.1723196804523468 - Validation Accuracy = 0.6218000054359436\n",
      "Epoch 40, CIFAR-10 Batch 4:  Cost = 0.14398281276226044 - Validation Accuracy = 0.6110000014305115\n",
      "Epoch 40, CIFAR-10 Batch 5:  Cost = 0.10823334753513336 - Validation Accuracy = 0.6284000277519226\n",
      "Epoch 41, CIFAR-10 Batch 1:  Cost = 0.1766883134841919 - Validation Accuracy = 0.6168000102043152\n",
      "Epoch 41, CIFAR-10 Batch 2:  Cost = 0.1668880581855774 - Validation Accuracy = 0.5978000164031982\n",
      "Epoch 41, CIFAR-10 Batch 3:  Cost = 0.1848783940076828 - Validation Accuracy = 0.6141999959945679\n",
      "Epoch 41, CIFAR-10 Batch 4:  Cost = 0.10034321248531342 - Validation Accuracy = 0.621999979019165\n",
      "Epoch 41, CIFAR-10 Batch 5:  Cost = 0.10162419825792313 - Validation Accuracy = 0.6308000087738037\n",
      "Epoch 42, CIFAR-10 Batch 1:  Cost = 0.14814014732837677 - Validation Accuracy = 0.6299999952316284\n",
      "Epoch 42, CIFAR-10 Batch 2:  Cost = 0.11693479865789413 - Validation Accuracy = 0.6222000122070312\n",
      "Epoch 42, CIFAR-10 Batch 3:  Cost = 0.1298714429140091 - Validation Accuracy = 0.6212000250816345\n",
      "Epoch 42, CIFAR-10 Batch 4:  Cost = 0.1275646984577179 - Validation Accuracy = 0.6015999913215637\n",
      "Epoch 42, CIFAR-10 Batch 5:  Cost = 0.11473310738801956 - Validation Accuracy = 0.6237999796867371\n",
      "Epoch 43, CIFAR-10 Batch 1:  Cost = 0.14643724262714386 - Validation Accuracy = 0.6254000067710876\n",
      "Epoch 43, CIFAR-10 Batch 2:  Cost = 0.1016242727637291 - Validation Accuracy = 0.621399998664856\n",
      "Epoch 43, CIFAR-10 Batch 3:  Cost = 0.11950107663869858 - Validation Accuracy = 0.6182000041007996\n",
      "Epoch 43, CIFAR-10 Batch 4:  Cost = 0.11831759661436081 - Validation Accuracy = 0.600600004196167\n",
      "Epoch 43, CIFAR-10 Batch 5:  Cost = 0.10705868899822235 - Validation Accuracy = 0.621999979019165\n",
      "Epoch 44, CIFAR-10 Batch 1:  Cost = 0.14909221231937408 - Validation Accuracy = 0.6126000285148621\n",
      "Epoch 44, CIFAR-10 Batch 2:  Cost = 0.0974888727068901 - Validation Accuracy = 0.6215999722480774\n",
      "Epoch 44, CIFAR-10 Batch 3:  Cost = 0.12384388595819473 - Validation Accuracy = 0.6164000034332275\n",
      "Epoch 44, CIFAR-10 Batch 4:  Cost = 0.08991939574480057 - Validation Accuracy = 0.6154000163078308\n",
      "Epoch 44, CIFAR-10 Batch 5:  Cost = 0.09924958646297455 - Validation Accuracy = 0.6190000176429749\n",
      "Epoch 45, CIFAR-10 Batch 1:  Cost = 0.12447243183851242 - Validation Accuracy = 0.6128000020980835\n",
      "Epoch 45, CIFAR-10 Batch 2:  Cost = 0.10308372974395752 - Validation Accuracy = 0.6215999722480774\n",
      "Epoch 45, CIFAR-10 Batch 3:  Cost = 0.13211745023727417 - Validation Accuracy = 0.6065999865531921\n",
      "Epoch 45, CIFAR-10 Batch 4:  Cost = 0.07798941433429718 - Validation Accuracy = 0.6205999851226807\n",
      "Epoch 45, CIFAR-10 Batch 5:  Cost = 0.11201144754886627 - Validation Accuracy = 0.6092000007629395\n",
      "Epoch 46, CIFAR-10 Batch 1:  Cost = 0.10746937990188599 - Validation Accuracy = 0.6227999925613403\n",
      "Epoch 46, CIFAR-10 Batch 2:  Cost = 0.13320335745811462 - Validation Accuracy = 0.6144000291824341\n",
      "Epoch 46, CIFAR-10 Batch 3:  Cost = 0.11956052482128143 - Validation Accuracy = 0.6132000088691711\n",
      "Epoch 46, CIFAR-10 Batch 4:  Cost = 0.08675885200500488 - Validation Accuracy = 0.621399998664856\n",
      "Epoch 46, CIFAR-10 Batch 5:  Cost = 0.091484434902668 - Validation Accuracy = 0.6104000210762024\n",
      "Epoch 47, CIFAR-10 Batch 1:  Cost = 0.1160445511341095 - Validation Accuracy = 0.6241999864578247\n",
      "Epoch 47, CIFAR-10 Batch 2:  Cost = 0.10539757460355759 - Validation Accuracy = 0.6169999837875366\n",
      "Epoch 47, CIFAR-10 Batch 3:  Cost = 0.10330779105424881 - Validation Accuracy = 0.6186000108718872\n",
      "Epoch 47, CIFAR-10 Batch 4:  Cost = 0.08777372539043427 - Validation Accuracy = 0.6060000061988831\n",
      "Epoch 47, CIFAR-10 Batch 5:  Cost = 0.07635583728551865 - Validation Accuracy = 0.6105999946594238\n",
      "Epoch 48, CIFAR-10 Batch 1:  Cost = 0.11778048425912857 - Validation Accuracy = 0.6122000217437744\n",
      "Epoch 48, CIFAR-10 Batch 2:  Cost = 0.0844157487154007 - Validation Accuracy = 0.6295999884605408\n",
      "Epoch 48, CIFAR-10 Batch 3:  Cost = 0.10664202272891998 - Validation Accuracy = 0.6086000204086304\n",
      "Epoch 48, CIFAR-10 Batch 4:  Cost = 0.0712520107626915 - Validation Accuracy = 0.6172000169754028\n",
      "Epoch 48, CIFAR-10 Batch 5:  Cost = 0.06174001470208168 - Validation Accuracy = 0.6205999851226807\n",
      "Epoch 49, CIFAR-10 Batch 1:  Cost = 0.08606620132923126 - Validation Accuracy = 0.6322000026702881\n",
      "Epoch 49, CIFAR-10 Batch 2:  Cost = 0.087492436170578 - Validation Accuracy = 0.6223999857902527\n",
      "Epoch 49, CIFAR-10 Batch 3:  Cost = 0.1124667301774025 - Validation Accuracy = 0.6092000007629395\n",
      "Epoch 49, CIFAR-10 Batch 4:  Cost = 0.08431552350521088 - Validation Accuracy = 0.6101999878883362\n",
      "Epoch 49, CIFAR-10 Batch 5:  Cost = 0.07559101283550262 - Validation Accuracy = 0.6150000095367432\n",
      "Epoch 50, CIFAR-10 Batch 1:  Cost = 0.1088571846485138 - Validation Accuracy = 0.6240000128746033\n",
      "Epoch 50, CIFAR-10 Batch 2:  Cost = 0.09271134436130524 - Validation Accuracy = 0.6194000244140625\n",
      "Epoch 50, CIFAR-10 Batch 3:  Cost = 0.10453611612319946 - Validation Accuracy = 0.6169999837875366\n",
      "Epoch 50, CIFAR-10 Batch 4:  Cost = 0.06282353401184082 - Validation Accuracy = 0.6222000122070312\n",
      "Epoch 50, CIFAR-10 Batch 5:  Cost = 0.06180819123983383 - Validation Accuracy = 0.6168000102043152\n"
     ]
    }
   ],
   "source": [
    "\"\"\"\n",
    "DON'T MODIFY ANYTHING IN THIS CELL\n",
    "\"\"\"\n",
    "save_model_path = './image_classification'\n",
    "\n",
    "print('Training...')\n",
    "with tf.Session() as sess:\n",
    "    # Initializing the variables\n",
    "    sess.run(tf.global_variables_initializer())\n",
    "    \n",
    "    # Training cycle\n",
    "    for epoch in range(epochs):\n",
    "        # Loop over all batches\n",
    "        n_batches = 5\n",
    "        for batch_i in range(1, n_batches + 1):\n",
    "            for batch_features, batch_labels in helper.load_preprocess_training_batch(batch_i, batch_size):\n",
    "                train_neural_network(sess, optimizer, keep_probability, batch_features, batch_labels)\n",
    "            print('Epoch {:>2}, CIFAR-10 Batch {}:  '.format(epoch + 1, batch_i), end='')\n",
    "            print_stats(sess, batch_features, batch_labels, cost, accuracy)\n",
    "            \n",
    "    # Save Model\n",
    "    saver = tf.train.Saver()\n",
    "    save_path = saver.save(sess, save_model_path)"
   ]
  },
  {
   "cell_type": "markdown",
   "metadata": {},
   "source": [
    "# Checkpoint\n",
    "The model has been saved to disk.\n",
    "## Test Model\n",
    "Test your model against the test dataset.  This will be your final accuracy. You should have an accuracy greater than 50%. If you don't, keep tweaking the model architecture and parameters."
   ]
  },
  {
   "cell_type": "code",
   "execution_count": 23,
   "metadata": {},
   "outputs": [
    {
     "name": "stdout",
     "output_type": "stream",
     "text": [
      "Testing Accuracy: 0.6157106995582581\n",
      "\n"
     ]
    },
    {
     "data": {
      "image/png": "[encoded data removed]",
      "text/plain": [
       "<matplotlib.figure.Figure at 0x11f35a048>"
      ]
     },
     "metadata": {
      "image/png": {
       "height": 319,
       "width": 355
      }
     },
     "output_type": "display_data"
    }
   ],
   "source": [
    "\"\"\"\n",
    "DON'T MODIFY ANYTHING IN THIS CELL\n",
    "\"\"\"\n",
    "%matplotlib inline\n",
    "%config InlineBackend.figure_format = 'retina'\n",
    "\n",
    "import tensorflow as tf\n",
    "import pickle\n",
    "import helper\n",
    "import random\n",
    "\n",
    "# Set batch size if not already set\n",
    "try:\n",
    "    if batch_size:\n",
    "        pass\n",
    "except NameError:\n",
    "    batch_size = 64\n",
    "\n",
    "save_model_path = './image_classification'\n",
    "n_samples = 4\n",
    "top_n_predictions = 3\n",
    "\n",
    "def test_model():\n",
    "    \"\"\"\n",
    "    Test the saved model against the test dataset\n",
    "    \"\"\"\n",
    "\n",
    "    test_features, test_labels = pickle.load(open('preprocess_test.p', mode='rb'))\n",
    "    loaded_graph = tf.Graph()\n",
    "\n",
    "    with tf.Session(graph=loaded_graph) as sess:\n",
    "        # Load model\n",
    "        loader = tf.train.import_meta_graph(save_model_path + '.meta')\n",
    "        loader.restore(sess, save_model_path)\n",
    "\n",
    "        # Get Tensors from loaded model\n",
    "        loaded_x = loaded_graph.get_tensor_by_name('x:0')\n",
    "        loaded_y = loaded_graph.get_tensor_by_name('y:0')\n",
    "        loaded_keep_prob = loaded_graph.get_tensor_by_name('keep_prob:0')\n",
    "        loaded_logits = loaded_graph.get_tensor_by_name('logits:0')\n",
    "        loaded_acc = loaded_graph.get_tensor_by_name('accuracy:0')\n",
    "        \n",
    "        # Get accuracy in batches for memory limitations\n",
    "        test_batch_acc_total = 0\n",
    "        test_batch_count = 0\n",
    "        \n",
    "        for test_feature_batch, test_label_batch in helper.batch_features_labels(test_features, test_labels, batch_size):\n",
    "            test_batch_acc_total += sess.run(\n",
    "                loaded_acc,\n",
    "                feed_dict={loaded_x: test_feature_batch, loaded_y: test_label_batch, loaded_keep_prob: 1.0})\n",
    "            test_batch_count += 1\n",
    "\n",
    "        print('Testing Accuracy: {}\\n'.format(test_batch_acc_total/test_batch_count))\n",
    "\n",
    "        # Print Random Samples\n",
    "        random_test_features, random_test_labels = tuple(zip(*random.sample(list(zip(test_features, test_labels)), n_samples)))\n",
    "        random_test_predictions = sess.run(\n",
    "            tf.nn.top_k(tf.nn.softmax(loaded_logits), top_n_predictions),\n",
    "            feed_dict={loaded_x: random_test_features, loaded_y: random_test_labels, loaded_keep_prob: 1.0})\n",
    "        helper.display_image_predictions(random_test_features, random_test_labels, random_test_predictions)\n",
    "\n",
    "\n",
    "test_model()"
   ]
  },
  {
   "cell_type": "markdown",
   "metadata": {},
   "source": [
    "## Why 50-80% Accuracy?\n",
    "You might be wondering why you can't get an accuracy any higher. First things first, 50% isn't bad for a simple CNN.  Pure guessing would get you 10% accuracy. However, you might notice people are getting scores [well above 80%](http://rodrigob.github.io/are_we_there_yet/build/classification_datasets_results.html#43494641522d3130).  That's because we haven't taught you all there is to know about neural networks. We still need to cover a few more techniques.\n",
    "## Submitting This Project\n",
    "When submitting this project, make sure to run all the cells before saving the notebook.  Save the notebook file as \"dlnd_image_classification.ipynb\" and save it as a HTML file under \"File\" -> \"Download as\".  Include the \"helper.py\" and \"problem_unittests.py\" files in your submission."
   ]
  }
 ],
 "metadata": {
  "kernelspec": {
   "display_name": "Python 3",
   "language": "python",
   "name": "python3"
  },
  "language_info": {
   "codemirror_mode": {
    "name": "ipython",
    "version": 3
   },
   "file_extension": ".py",
   "mimetype": "text/x-python",
   "name": "python",
   "nbconvert_exporter": "python",
   "pygments_lexer": "ipython3",
   "version": "3.6.4"
  }
 },
 "nbformat": 4,
 "nbformat_minor": 2
}
